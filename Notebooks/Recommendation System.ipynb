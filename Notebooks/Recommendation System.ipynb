{
 "cells": [
  {
   "cell_type": "code",
   "execution_count": 1,
   "metadata": {},
   "outputs": [],
   "source": [
    "import pandas as pd\n",
    "import nltk\n",
    "import re"
   ]
  },
  {
   "cell_type": "code",
   "execution_count": 2,
   "metadata": {},
   "outputs": [],
   "source": [
    "df = pd.read_csv('clothing_data.csv')"
   ]
  },
  {
   "cell_type": "code",
   "execution_count": 3,
   "metadata": {},
   "outputs": [
    {
     "data": {
      "text/plain": [
       "(26960, 4)"
      ]
     },
     "execution_count": 3,
     "metadata": {},
     "output_type": "execute_result"
    }
   ],
   "source": [
    "df.shape"
   ]
  },
  {
   "cell_type": "code",
   "execution_count": 4,
   "metadata": {},
   "outputs": [
    {
     "data": {
      "text/html": [
       "<div>\n",
       "<style scoped>\n",
       "    .dataframe tbody tr th:only-of-type {\n",
       "        vertical-align: middle;\n",
       "    }\n",
       "\n",
       "    .dataframe tbody tr th {\n",
       "        vertical-align: top;\n",
       "    }\n",
       "\n",
       "    .dataframe thead th {\n",
       "        text-align: right;\n",
       "    }\n",
       "</style>\n",
       "<table border=\"1\" class=\"dataframe\">\n",
       "  <thead>\n",
       "    <tr style=\"text-align: right;\">\n",
       "      <th></th>\n",
       "      <th>brand</th>\n",
       "      <th>description</th>\n",
       "      <th>url</th>\n",
       "      <th>img</th>\n",
       "    </tr>\n",
       "  </thead>\n",
       "  <tbody>\n",
       "    <tr>\n",
       "      <th>11654</th>\n",
       "      <td>Peter England</td>\n",
       "      <td>Men Jeans</td>\n",
       "      <td>https://www.amazon.in/Peter-England-Mens-Jeans...</td>\n",
       "      <td>https://m.media-amazon.com/images/I/617sCUR90o...</td>\n",
       "    </tr>\n",
       "    <tr>\n",
       "      <th>12785</th>\n",
       "      <td>Puma</td>\n",
       "      <td>Mens Jacket</td>\n",
       "      <td>https://www.amazon.in/Puma-Mens-A-Line-Coat-84...</td>\n",
       "      <td>https://m.media-amazon.com/images/I/412O5U6Tja...</td>\n",
       "    </tr>\n",
       "    <tr>\n",
       "      <th>20244</th>\n",
       "      <td>SATYAM KRAFT</td>\n",
       "      <td>Women's Elastic Stretchy Handmade Resin Round ...</td>\n",
       "      <td>https://www.amazon.in/SATYAM-KRAFT-Elastic-kan...</td>\n",
       "      <td>https://m.media-amazon.com/images/I/41eZTfANSN...</td>\n",
       "    </tr>\n",
       "    <tr>\n",
       "      <th>19867</th>\n",
       "      <td>Pragati Trends</td>\n",
       "      <td>Pragati Trends Women's Wrinkle Resistant Poly ...</td>\n",
       "      <td>https://www.amazon.in/Womens-Wrinkle-Resistant...</td>\n",
       "      <td>https://m.media-amazon.com/images/I/61jK0j4x6b...</td>\n",
       "    </tr>\n",
       "    <tr>\n",
       "      <th>19936</th>\n",
       "      <td>Miss Mayra</td>\n",
       "      <td>Ankle Leggings Bio Wash 200GSM Ultra Premium 4...</td>\n",
       "      <td>https://www.amazon.in/sspa/click?ie=UTF8&amp;spc=M...</td>\n",
       "      <td>https://m.media-amazon.com/images/I/31tHPfAE3p...</td>\n",
       "    </tr>\n",
       "    <tr>\n",
       "      <th>10138</th>\n",
       "      <td>REYA</td>\n",
       "      <td>Men's Regular Fit T-Shirt</td>\n",
       "      <td>https://www.amazon.in/REYA-Regular-T-Shirt-TSR...</td>\n",
       "      <td>https://m.media-amazon.com/images/I/61d2QLrSZ2...</td>\n",
       "    </tr>\n",
       "    <tr>\n",
       "      <th>5560</th>\n",
       "      <td>Cute Fellow</td>\n",
       "      <td>Embroidered Semi Stitched Lehenga Choli</td>\n",
       "      <td>https://www.flipkart.com/cute-fellow-embroider...</td>\n",
       "      <td>https://rukminim1.flixcart.com/image/612/612/x...</td>\n",
       "    </tr>\n",
       "    <tr>\n",
       "      <th>5424</th>\n",
       "      <td>BHAVNATH FASHION</td>\n",
       "      <td>Embroidered Semi Stitched Lehenga Choli</td>\n",
       "      <td>https://www.flipkart.com/bhavnath-fashion-embr...</td>\n",
       "      <td>https://rukminim1.flixcart.com/image/612/612/k...</td>\n",
       "    </tr>\n",
       "    <tr>\n",
       "      <th>21010</th>\n",
       "      <td>LEOTUDE</td>\n",
       "      <td>Regular Fit Cotton-Blend Half Sleeve Men's T-S...</td>\n",
       "      <td>https://www.amazon.in/LEOTUDE-Cotton-Sleeve-Bo...</td>\n",
       "      <td>https://m.media-amazon.com/images/I/71foOIdlxc...</td>\n",
       "    </tr>\n",
       "    <tr>\n",
       "      <th>701</th>\n",
       "      <td>CAMPUS SUTRA</td>\n",
       "      <td>Men Regular Fit Checkered Spread Collar Casual...</td>\n",
       "      <td>https://www.flipkart.com/campus-sutra-men-chec...</td>\n",
       "      <td>https://rukminim1.flixcart.com/image/612/612/l...</td>\n",
       "    </tr>\n",
       "  </tbody>\n",
       "</table>\n",
       "</div>"
      ],
      "text/plain": [
       "                  brand                                        description  \\\n",
       "11654     Peter England                                          Men Jeans   \n",
       "12785              Puma                                        Mens Jacket   \n",
       "20244      SATYAM KRAFT  Women's Elastic Stretchy Handmade Resin Round ...   \n",
       "19867    Pragati Trends  Pragati Trends Women's Wrinkle Resistant Poly ...   \n",
       "19936        Miss Mayra  Ankle Leggings Bio Wash 200GSM Ultra Premium 4...   \n",
       "10138              REYA                          Men's Regular Fit T-Shirt   \n",
       "5560        Cute Fellow            Embroidered Semi Stitched Lehenga Choli   \n",
       "5424   BHAVNATH FASHION            Embroidered Semi Stitched Lehenga Choli   \n",
       "21010           LEOTUDE  Regular Fit Cotton-Blend Half Sleeve Men's T-S...   \n",
       "701        CAMPUS SUTRA  Men Regular Fit Checkered Spread Collar Casual...   \n",
       "\n",
       "                                                     url  \\\n",
       "11654  https://www.amazon.in/Peter-England-Mens-Jeans...   \n",
       "12785  https://www.amazon.in/Puma-Mens-A-Line-Coat-84...   \n",
       "20244  https://www.amazon.in/SATYAM-KRAFT-Elastic-kan...   \n",
       "19867  https://www.amazon.in/Womens-Wrinkle-Resistant...   \n",
       "19936  https://www.amazon.in/sspa/click?ie=UTF8&spc=M...   \n",
       "10138  https://www.amazon.in/REYA-Regular-T-Shirt-TSR...   \n",
       "5560   https://www.flipkart.com/cute-fellow-embroider...   \n",
       "5424   https://www.flipkart.com/bhavnath-fashion-embr...   \n",
       "21010  https://www.amazon.in/LEOTUDE-Cotton-Sleeve-Bo...   \n",
       "701    https://www.flipkart.com/campus-sutra-men-chec...   \n",
       "\n",
       "                                                     img  \n",
       "11654  https://m.media-amazon.com/images/I/617sCUR90o...  \n",
       "12785  https://m.media-amazon.com/images/I/412O5U6Tja...  \n",
       "20244  https://m.media-amazon.com/images/I/41eZTfANSN...  \n",
       "19867  https://m.media-amazon.com/images/I/61jK0j4x6b...  \n",
       "19936  https://m.media-amazon.com/images/I/31tHPfAE3p...  \n",
       "10138  https://m.media-amazon.com/images/I/61d2QLrSZ2...  \n",
       "5560   https://rukminim1.flixcart.com/image/612/612/x...  \n",
       "5424   https://rukminim1.flixcart.com/image/612/612/k...  \n",
       "21010  https://m.media-amazon.com/images/I/71foOIdlxc...  \n",
       "701    https://rukminim1.flixcart.com/image/612/612/l...  "
      ]
     },
     "execution_count": 4,
     "metadata": {},
     "output_type": "execute_result"
    }
   ],
   "source": [
    "df.sample(10)"
   ]
  },
  {
   "cell_type": "code",
   "execution_count": 5,
   "metadata": {},
   "outputs": [],
   "source": [
    "df = df.drop_duplicates(subset='description')"
   ]
  },
  {
   "cell_type": "code",
   "execution_count": 6,
   "metadata": {},
   "outputs": [],
   "source": [
    "clothing_df = df[['description','url','img']]\n",
    "clothing_df_copy = clothing_df.copy()"
   ]
  },
  {
   "cell_type": "code",
   "execution_count": 7,
   "metadata": {},
   "outputs": [
    {
     "data": {
      "text/plain": [
       "(1944, 3)"
      ]
     },
     "execution_count": 7,
     "metadata": {},
     "output_type": "execute_result"
    }
   ],
   "source": [
    "clothing_df_copy.shape"
   ]
  },
  {
   "cell_type": "code",
   "execution_count": 8,
   "metadata": {},
   "outputs": [
    {
     "name": "stderr",
     "output_type": "stream",
     "text": [
      "[nltk_data] Downloading package stopwords to\n",
      "[nltk_data]     C:\\Users\\visha\\AppData\\Roaming\\nltk_data...\n",
      "[nltk_data]   Unzipping corpora\\stopwords.zip.\n",
      "[nltk_data] Downloading package wordnet to\n",
      "[nltk_data]     C:\\Users\\visha\\AppData\\Roaming\\nltk_data...\n"
     ]
    }
   ],
   "source": [
    "from nltk.corpus import stopwords    # Import the stopwords module from nltk.corpus\n",
    "from nltk.stem import WordNetLemmatizer   # Import the WordNetLemmatizer class from nltk.stem\n",
    "nltk.download('stopwords')    # Download the stopwords dataset\n",
    "nltk.download('wordnet')\n",
    "lemmatizer = WordNetLemmatizer()    # Create an instance of the PorterStemmer class"
   ]
  },
  {
   "cell_type": "code",
   "execution_count": 9,
   "metadata": {},
   "outputs": [],
   "source": [
    "def clean_text(text:str):\n",
    "    cleaned_text = re.sub('[^a-zA-Z]', ' ', text)  # Remove non-alphabetic characters and replace them with spaces\n",
    "    cleaned_text = cleaned_text.lower()  # Convert the text to lowercase\n",
    "    cleaned_text = cleaned_text.split()  # Split the text into a list of words\n",
    "    cleaned_text = [lemmatizer.lemmatize(word) for word in cleaned_text if not word in stopwords.words('english')]  # Perform lemmetization and remove stopwords\n",
    "    cleaned_text = ' '.join(cleaned_text)  # Join the words back into a single string\n",
    "    return cleaned_text"
   ]
  },
  {
   "cell_type": "code",
   "execution_count": 10,
   "metadata": {},
   "outputs": [],
   "source": [
    "# Apply the 'clean_text' function to the 'description' column of the DataFrame\n",
    "# The lambda function 'lambda x: clean_text(x)' is used to apply the 'clean_text' function to each element in the 'description' column\n",
    "# The cleaned text is assigned back to the 'description' column\n",
    "clothing_df['cleaned_description'] = clothing_df['description'].apply(clean_text)"
   ]
  },
  {
   "cell_type": "code",
   "execution_count": 11,
   "metadata": {},
   "outputs": [
    {
     "data": {
      "text/html": [
       "<div>\n",
       "<style scoped>\n",
       "    .dataframe tbody tr th:only-of-type {\n",
       "        vertical-align: middle;\n",
       "    }\n",
       "\n",
       "    .dataframe tbody tr th {\n",
       "        vertical-align: top;\n",
       "    }\n",
       "\n",
       "    .dataframe thead th {\n",
       "        text-align: right;\n",
       "    }\n",
       "</style>\n",
       "<table border=\"1\" class=\"dataframe\">\n",
       "  <thead>\n",
       "    <tr style=\"text-align: right;\">\n",
       "      <th></th>\n",
       "      <th>description</th>\n",
       "      <th>url</th>\n",
       "      <th>img</th>\n",
       "      <th>cleaned_description</th>\n",
       "    </tr>\n",
       "  </thead>\n",
       "  <tbody>\n",
       "    <tr>\n",
       "      <th>0</th>\n",
       "      <td>Men Regular Fit Printed Casual Shirt</td>\n",
       "      <td>https://www.flipkart.com/solbiza-men-printed-c...</td>\n",
       "      <td>https://rukminim1.flixcart.com/image/612/612/x...</td>\n",
       "      <td>men regular fit printed casual shirt</td>\n",
       "    </tr>\n",
       "    <tr>\n",
       "      <th>1</th>\n",
       "      <td>Men Regular Fit Checkered Spread Collar Casual...</td>\n",
       "      <td>https://www.flipkart.com/roadster-men-checkere...</td>\n",
       "      <td>https://rukminim1.flixcart.com/image/612/612/k...</td>\n",
       "      <td>men regular fit checkered spread collar casual...</td>\n",
       "    </tr>\n",
       "    <tr>\n",
       "      <th>2</th>\n",
       "      <td>Men Solid Polo Neck Green T-Shirt</td>\n",
       "      <td>https://www.flipkart.com/3bros-solid-men-polo-...</td>\n",
       "      <td>https://rukminim1.flixcart.com/image/612/612/x...</td>\n",
       "      <td>men solid polo neck green shirt</td>\n",
       "    </tr>\n",
       "    <tr>\n",
       "      <th>3</th>\n",
       "      <td>Pack of 2 Men Striped Round Neck Dark Blue, Re...</td>\n",
       "      <td>https://www.flipkart.com/blive-striped-men-rou...</td>\n",
       "      <td>https://rukminim1.flixcart.com/image/612/612/x...</td>\n",
       "      <td>pack men striped round neck dark blue red shirt</td>\n",
       "    </tr>\n",
       "    <tr>\n",
       "      <th>4</th>\n",
       "      <td>Men Printed Round Neck Light Blue T-Shirt</td>\n",
       "      <td>https://www.flipkart.com/nb-nicky-boy-printed-...</td>\n",
       "      <td>https://rukminim1.flixcart.com/image/612/612/x...</td>\n",
       "      <td>men printed round neck light blue shirt</td>\n",
       "    </tr>\n",
       "  </tbody>\n",
       "</table>\n",
       "</div>"
      ],
      "text/plain": [
       "                                         description  \\\n",
       "0               Men Regular Fit Printed Casual Shirt   \n",
       "1  Men Regular Fit Checkered Spread Collar Casual...   \n",
       "2                  Men Solid Polo Neck Green T-Shirt   \n",
       "3  Pack of 2 Men Striped Round Neck Dark Blue, Re...   \n",
       "4          Men Printed Round Neck Light Blue T-Shirt   \n",
       "\n",
       "                                                 url  \\\n",
       "0  https://www.flipkart.com/solbiza-men-printed-c...   \n",
       "1  https://www.flipkart.com/roadster-men-checkere...   \n",
       "2  https://www.flipkart.com/3bros-solid-men-polo-...   \n",
       "3  https://www.flipkart.com/blive-striped-men-rou...   \n",
       "4  https://www.flipkart.com/nb-nicky-boy-printed-...   \n",
       "\n",
       "                                                 img  \\\n",
       "0  https://rukminim1.flixcart.com/image/612/612/x...   \n",
       "1  https://rukminim1.flixcart.com/image/612/612/k...   \n",
       "2  https://rukminim1.flixcart.com/image/612/612/x...   \n",
       "3  https://rukminim1.flixcart.com/image/612/612/x...   \n",
       "4  https://rukminim1.flixcart.com/image/612/612/x...   \n",
       "\n",
       "                                 cleaned_description  \n",
       "0               men regular fit printed casual shirt  \n",
       "1  men regular fit checkered spread collar casual...  \n",
       "2                    men solid polo neck green shirt  \n",
       "3    pack men striped round neck dark blue red shirt  \n",
       "4            men printed round neck light blue shirt  "
      ]
     },
     "execution_count": 11,
     "metadata": {},
     "output_type": "execute_result"
    }
   ],
   "source": [
    "clothing_df.head(5)"
   ]
  },
  {
   "cell_type": "code",
   "execution_count": 12,
   "metadata": {},
   "outputs": [],
   "source": [
    "from sklearn.feature_extraction.text import CountVectorizer\n",
    "cv = CountVectorizer(max_features=5000,stop_words='english')"
   ]
  },
  {
   "cell_type": "code",
   "execution_count": 13,
   "metadata": {},
   "outputs": [],
   "source": [
    "from sklearn.metrics.pairwise import cosine_similarity"
   ]
  },
  {
   "cell_type": "code",
   "execution_count": 14,
   "metadata": {},
   "outputs": [],
   "source": [
    "def recommend_clothes(text:str,top_num:int):\n",
    "    # Clean the input text by removing non-alphabetic characters\n",
    "    cleaned_text = re.sub('[^a-zA-Z]', ' ', text)\n",
    "    \n",
    "    # Convert the text to lowercase\n",
    "    cleaned_text = cleaned_text.lower()\n",
    "    \n",
    "    # Split the text into individual words\n",
    "    cleaned_text = cleaned_text.split()\n",
    "    \n",
    "    # Lemmatize the words and remove stopwords\n",
    "    cleaned_text = [lemmatizer.lemmatize(word) for word in cleaned_text if not word in stopwords.words('english')]\n",
    "    \n",
    "    # Join the cleaned words back into a string\n",
    "    cleaned_text = ' '.join(cleaned_text)\n",
    "    \n",
    "    # Create a Pandas Series with the cleaned text\n",
    "    cleaned_text_as_series = pd.Series([cleaned_text])\n",
    "    \n",
    "    # Get the existing descriptions from the clothing dataframe\n",
    "    descriptions = clothing_df['cleaned_description']\n",
    "    \n",
    "    # Concatenate the existing descriptions with the cleaned text series\n",
    "    decription_with_new_text = pd.concat([descriptions,cleaned_text_as_series]).reset_index(drop=True)\n",
    "    \n",
    "    # Vectorize the descriptions using CountVectorizer\n",
    "    vectors = cv.fit_transform(decription_with_new_text).toarray()\n",
    "    \n",
    "    # Compute the cosine similarity scores between vectors\n",
    "    similarity_scores = cosine_similarity(vectors)\n",
    "    \n",
    "    # Find the index of the input description in the concatenated series\n",
    "    input_description_index = decription_with_new_text[decription_with_new_text==cleaned_text].index[0]\n",
    "    \n",
    "    # Get the similarity scores of the input description with other descriptions\n",
    "    distances = similarity_scores[input_description_index]\n",
    "    \n",
    "    # Get the indices and distances of the top similar clothing items\n",
    "    clothing_items_list = sorted(list(enumerate(distances)),reverse=True,key=lambda x:x[1])[1:top_num+1]\n",
    "    \n",
    "    # Get the details of the top similar clothing items from the dataframe\n",
    "    clothing_item_details = [(clothing_df.iloc[each[0]]).to_dict() for each in clothing_items_list]\n",
    "    \n",
    "    # Exclude the input description from the list of descriptions\n",
    "    descriptions = descriptions[descriptions!=cleaned_text]\n",
    "    \n",
    "    # Return the details of the recommended clothing items\n",
    "    return clothing_item_details\n"
   ]
  },
  {
   "cell_type": "code",
   "execution_count": 16,
   "metadata": {},
   "outputs": [
    {
     "data": {
      "text/plain": [
       "[{'description': 'Men T-Shirt',\n",
       "  'url': 'https://www.amazon.in/EYEBOGLER-Regular-Colorblocked-Sleeves-T-Shirt/dp/B0BRSS8LVS/ref=sr_1_72?content-id=amzn1.sym.f5e83e00-a666-492b-b882-5fa6fba3548e&pd_rd_r=21025b0c-ec69-41d2-96e6-ec699afe0fee&pd_rd_w=lDWwe&pd_rd_wg=IQSQx&pf_rd_p=f5e83e00-a666-492b-b882-5fa6fba3548e&pf_rd_r=4SSBTYVCG98DM53DR4PQ&qid=1684619140&refinements=p_36%3A4595084031&s=apparel&sr=1-72',\n",
       "  'img': 'https://m.media-amazon.com/images/I/515PNKYCDcL._AC_UL400_.jpg',\n",
       "  'cleaned_description': 'men shirt'},\n",
       " {'description': \"Men's T-Shirt\",\n",
       "  'url': 'https://www.amazon.in/The-Blazze-Mens-Stringers-Gym-Tank-Top-Vest-Vests-for-Men-Muscle-Tee-M-Gray/dp/B07M8Q56YB/ref=sr_1_81?qid=1684619326&s=apparel&sr=1-81',\n",
       "  'img': 'https://m.media-amazon.com/images/I/71ee+OixN5L._AC_UL400_.jpg',\n",
       "  'cleaned_description': 'men shirt'},\n",
       " {'description': 'Women Shirt',\n",
       "  'url': 'https://www.amazon.in/Sanisa-Womens-Regular-322KN772-M_Black-Medium/dp/B08VG3DCDS/ref=sr_1_68?qid=1684619389&s=apparel&sr=1-68',\n",
       "  'img': 'https://m.media-amazon.com/images/I/51A5sjPw-hL._AC_UL400_.jpg',\n",
       "  'cleaned_description': 'woman shirt'},\n",
       " {'description': 'Women T-Shirt',\n",
       "  'url': 'https://www.amazon.in/Preneum-Womens-Straight-T-Shirt-08_Black/dp/B0B4218KTR/ref=sr_1_78?qid=1684619454&s=apparel&sr=1-78',\n",
       "  'img': 'https://m.media-amazon.com/images/I/61AY8KCur1L._AC_UL400_.jpg',\n",
       "  'cleaned_description': 'woman shirt'},\n",
       " {'description': 'T-Shirt for Mens with Crew Neck & Regular Sleeves (T-Shirt-5056)',\n",
       "  'url': 'https://www.amazon.in/TOPLOT-T-Shirt-Regular-Sleeves-T-Shirt-5056-White-L/dp/B0C3GWNVNK/ref=sr_1_94?content-id=amzn1.sym.f5e83e00-a666-492b-b882-5fa6fba3548e&pd_rd_r=21025b0c-ec69-41d2-96e6-ec699afe0fee&pd_rd_w=lDWwe&pd_rd_wg=IQSQx&pf_rd_p=f5e83e00-a666-492b-b882-5fa6fba3548e&pf_rd_r=4SSBTYVCG98DM53DR4PQ&qid=1684619140&refinements=p_36%3A4595084031&s=apparel&sr=1-94',\n",
       "  'img': 'https://m.media-amazon.com/images/I/71GITfTSeRL._AC_UL400_.jpg',\n",
       "  'cleaned_description': 'shirt men crew neck regular sleeve shirt'}]"
      ]
     },
     "execution_count": 16,
     "metadata": {},
     "output_type": "execute_result"
    }
   ],
   "source": [
    "cl = recommend_clothes('shirt',5)\n",
    "cl"
   ]
  },
  {
   "cell_type": "code",
   "execution_count": 17,
   "metadata": {},
   "outputs": [],
   "source": [
    "import pickle\n",
    "# Save the 'clothing_df' DataFrame using pickle\n",
    "pickle.dump(clothing_df, open('clothing.pkl', 'wb'))"
   ]
  },
  {
   "cell_type": "code",
   "execution_count": null,
   "metadata": {},
   "outputs": [],
   "source": []
  }
 ],
 "metadata": {
  "kernelspec": {
   "display_name": "base",
   "language": "python",
   "name": "python3"
  },
  "language_info": {
   "codemirror_mode": {
    "name": "ipython",
    "version": 3
   },
   "file_extension": ".py",
   "mimetype": "text/x-python",
   "name": "python",
   "nbconvert_exporter": "python",
   "pygments_lexer": "ipython3",
   "version": "3.11.5"
  }
 },
 "nbformat": 4,
 "nbformat_minor": 2
}
